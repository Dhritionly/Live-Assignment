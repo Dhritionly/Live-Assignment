{
  "nbformat": 4,
  "nbformat_minor": 0,
  "metadata": {
    "colab": {
      "provenance": []
    },
    "kernelspec": {
      "name": "python3",
      "display_name": "Python 3"
    },
    "language_info": {
      "name": "python"
    }
  },
  "cells": [
    {
      "cell_type": "markdown",
      "source": [
        "1.6. Write a program to display the appropriate message as per the color of signal(RED-Stop/Yellow-Stay/\n",
        "Green-Go) at the road crossing."
      ],
      "metadata": {
        "id": "YoA-ou_BTKg8"
      }
    },
    {
      "cell_type": "code",
      "source": [
        "def traffic_light(color):\n",
        "  \"\"\"Displays the appropriate message based on the traffic light color.\n",
        "\n",
        "  Args:\n",
        "    color: The color of the traffic light (must be \"RED\", \"YELLOW\", or \"GREEN\").\n",
        "  \"\"\"\n",
        "\n",
        "  if color.upper() == \"RED\":\n",
        "    print(\"Stop\")\n",
        "  elif color.upper() == \"YELLOW\":\n",
        "    print(\"Stay\")\n",
        "  elif color.upper() == \"GREEN\":\n",
        "    print(\"Go\")\n",
        "  else:\n",
        "    print(\"Invalid color. Please enter 'RED', 'YELLOW', or 'GREEN'.\")\n",
        "\n",
        "# Get the color from the user\n",
        "color = input(\"Enter the color of the traffic light: \")\n",
        "\n",
        "# Call the function to display the message\n",
        "traffic_light(color)"
      ],
      "metadata": {
        "colab": {
          "base_uri": "https://localhost:8080/"
        },
        "id": "ymM_D3oMTMoD",
        "outputId": "108ac79a-1208-491a-f137-a38ee8e002b8"
      },
      "execution_count": 1,
      "outputs": [
        {
          "output_type": "stream",
          "name": "stdout",
          "text": [
            "Enter the color of the traffic light: RED\n",
            "Stop\n"
          ]
        }
      ]
    },
    {
      "cell_type": "markdown",
      "source": [
        "1.7. Write a program to create a simple calculator performing only four basic operations(+,-,/,*) ."
      ],
      "metadata": {
        "id": "kQbfiPgXTu8M"
      }
    },
    {
      "cell_type": "code",
      "source": [
        "def calculator(num1, num2, operator):\n",
        "  \"\"\"Performs a basic arithmetic operation.\n",
        "\n",
        "  Args:\n",
        "    num1: The first number.\n",
        "    num2: The second number.\n",
        "    operator: The arithmetic operator (+, -, *, /).\n",
        "\n",
        "  Returns:\n",
        "    The result of the operation.\n",
        "  \"\"\"\n",
        "\n",
        "  if operator == '+':\n",
        "    return num1 + num2\n",
        "  elif operator == '-':\n",
        "    return num1 - num2\n",
        "  elif operator == '*':\n",
        "    return num1 * num2\n",
        "  elif operator == '/':\n",
        "    if num2 == 0:\n",
        "      return \"Cannot divide by zero.\"\n",
        "    return num1 / num2\n",
        "  else:\n",
        "    return \"Invalid operator.\"\n",
        "\n",
        "# Get input from the user\n",
        "num1 = float(input(\"Enter the first number: \"))\n",
        "num2 = float(input(\"Enter the second number: \"))\n",
        "operator = input(\"Enter the operator (+, -, *, /): \")\n",
        "\n",
        "# Call the calculator function\n",
        "result = calculator(num1, num2, operator)\n",
        "\n",
        "# Print the result\n",
        "print(\"Result:\", result)"
      ],
      "metadata": {
        "colab": {
          "base_uri": "https://localhost:8080/"
        },
        "id": "pNf82Gd2T2nv",
        "outputId": "20c5a5aa-a78e-40ed-d9be-9cc1e87542e6"
      },
      "execution_count": 2,
      "outputs": [
        {
          "output_type": "stream",
          "name": "stdout",
          "text": [
            "Enter the first number: 5\n",
            "Enter the second number: 7\n",
            "Enter the operator (+, -, *, /): +\n",
            "Result: 12.0\n"
          ]
        }
      ]
    },
    {
      "cell_type": "markdown",
      "source": [
        "1.8. Write a program to find the larger of the three pre-specified numbers using ternary operators."
      ],
      "metadata": {
        "id": "JYuzHkIEUEPB"
      }
    },
    {
      "cell_type": "code",
      "source": [
        "num1 = 10\n",
        "num2 = 20\n",
        "num3 = 15\n",
        "\n",
        "largest = num1 if num1 > num2 else num2\n",
        "largest = largest if largest > num3 else num3\n",
        "\n",
        "print(\"The largest number is:\", largest)"
      ],
      "metadata": {
        "colab": {
          "base_uri": "https://localhost:8080/"
        },
        "id": "ZMNZvx2AUDCF",
        "outputId": "293dde52-2e33-4206-fb71-850701b1b86f"
      },
      "execution_count": 3,
      "outputs": [
        {
          "output_type": "stream",
          "name": "stdout",
          "text": [
            "The largest number is: 20\n"
          ]
        }
      ]
    },
    {
      "cell_type": "markdown",
      "source": [
        "1.9. Write a program to find the factors of a whole number using a while loop."
      ],
      "metadata": {
        "id": "OZ-Sg6B2UOJu"
      }
    },
    {
      "cell_type": "code",
      "source": [
        "def find_factors(number):\n",
        "  \"\"\"Finds the factors of a given number.\n",
        "\n",
        "  Args:\n",
        "    number: The number for which to find factors.\n",
        "  \"\"\"\n",
        "\n",
        "  divisor = 1\n",
        "  while divisor <= number:\n",
        "    if number % divisor == 0:\n",
        "      print(divisor)\n",
        "    divisor += 1\n",
        "\n",
        "# Get input from the user\n",
        "number = int(input(\"Enter a whole number: \"))\n",
        "\n",
        "# Call the function to find factors\n",
        "find_factors(number)"
      ],
      "metadata": {
        "colab": {
          "base_uri": "https://localhost:8080/"
        },
        "id": "z8tTT6-mUVsr",
        "outputId": "69f11501-a3c6-41b1-fe1d-bcc236a35860"
      },
      "execution_count": 5,
      "outputs": [
        {
          "output_type": "stream",
          "name": "stdout",
          "text": [
            "Enter a whole number: 152\n",
            "1\n",
            "2\n",
            "4\n",
            "8\n",
            "19\n",
            "38\n",
            "76\n",
            "152\n"
          ]
        }
      ]
    },
    {
      "cell_type": "markdown",
      "source": [
        "1.10. Write a program to find the sum of all the positive numbers entered by the user. As soon as the user\n",
        "enters a negative number, stop taking in any further input from the user and display the sum ."
      ],
      "metadata": {
        "id": "kPr8nnwNUbmB"
      }
    },
    {
      "cell_type": "code",
      "source": [
        "sum = 0\n",
        "while True:\n",
        "  number = int(input(\"Enter a number (enter a negative number to stop): \"))\n",
        "  if number < 0:\n",
        "    break\n",
        "  sum += number\n",
        "\n",
        "print(\"The sum of all positive numbers is:\", sum)"
      ],
      "metadata": {
        "colab": {
          "base_uri": "https://localhost:8080/"
        },
        "id": "L2ct2ViUUenh",
        "outputId": "ec0eeae3-4f66-4601-a68a-e3cd11b30da8"
      },
      "execution_count": 4,
      "outputs": [
        {
          "output_type": "stream",
          "name": "stdout",
          "text": [
            "Enter a number (enter a negative number to stop): 5\n",
            "Enter a number (enter a negative number to stop): 4\n",
            "Enter a number (enter a negative number to stop): -9\n",
            "The sum of all positive numbers is: 9\n"
          ]
        }
      ]
    },
    {
      "cell_type": "markdown",
      "source": [
        "1.11. Write a program to find prime numbers between 2 to 100 using nested for loops."
      ],
      "metadata": {
        "id": "eW6ExiWqU2eU"
      }
    },
    {
      "cell_type": "code",
      "source": [
        "def is_prime(num):\n",
        "  \"\"\"Checks if a given number is prime.\n",
        "\n",
        "  Args:\n",
        "    num: The number to check.\n",
        "\n",
        "  Returns:\n",
        "    True if the number is prime, False otherwise.\n",
        "  \"\"\"\n",
        "\n",
        "  if num <= 1:\n",
        "    return False\n",
        "  if num <= 3:\n",
        "    return True\n",
        "  if num % 2 == 0 or num % 3 == 0:\n",
        "    return False\n",
        "\n",
        "  i = 5\n",
        "  while i * i <= num:\n",
        "    if num % i == 0 or num % (i + 2) == 0:\n",
        "      return False\n",
        "    i += 6\n",
        "\n",
        "  return True\n",
        "\n",
        "# Find and print prime numbers between 2 and 100\n",
        "for num in range(2, 101):\n",
        "  if is_prime(num):\n",
        "    print(num)"
      ],
      "metadata": {
        "colab": {
          "base_uri": "https://localhost:8080/"
        },
        "id": "RUzg20E_VCSd",
        "outputId": "1af01dfa-403c-4fa0-afe0-e36689d31682"
      },
      "execution_count": 6,
      "outputs": [
        {
          "output_type": "stream",
          "name": "stdout",
          "text": [
            "2\n",
            "3\n",
            "5\n",
            "7\n",
            "11\n",
            "13\n",
            "17\n",
            "19\n",
            "23\n",
            "29\n",
            "31\n",
            "37\n",
            "41\n",
            "43\n",
            "47\n",
            "53\n",
            "59\n",
            "61\n",
            "67\n",
            "71\n",
            "73\n",
            "79\n",
            "83\n",
            "89\n",
            "97\n"
          ]
        }
      ]
    },
    {
      "cell_type": "markdown",
      "source": [
        "1.12. Write the programs for the followingM\n",
        "? Accept the marks of the student in five major subjects and display the sameS\n",
        "? Calculate the sum of the marks of all subjects.Divide the total marks by number of subjects (i.e. 5), calculate\n",
        "percentage = total marks/5 and display the percentageS\n",
        "? Find the grade of the student as per the following criteria . Hint: Use Match & case for this.:"
      ],
      "metadata": {
        "id": "XhsX1gpUVIKI"
      }
    },
    {
      "cell_type": "code",
      "source": [
        "def calculate_grade(percentage):\n",
        "  \"\"\"Calculates the grade based on the given percentage.\n",
        "\n",
        "  Args:\n",
        "    percentage: The percentage obtained by the student.\n",
        "\n",
        "  Returns:\n",
        "    The corresponding grade.\n",
        "  \"\"\"\n",
        "\n",
        "  if percentage > 85:\n",
        "    return \"A\"\n",
        "  elif 75 <= percentage <= 85:\n",
        "    return \"B\"\n",
        "  elif 50 <= percentage < 75:\n",
        "    return \"C\"\n",
        "  elif 30 <= percentage < 50:\n",
        "    return \"D\"\n",
        "  else:\n",
        "    return \"Reappear\"\n",
        "\n",
        "# Get marks from the user\n",
        "marks = []\n",
        "for i in range(5):\n",
        "  marks.append(float(input(f\"Enter marks for subject {i+1}: \")))\n",
        "\n",
        "# Calculate sum and average\n",
        "# Use a different variable name to avoid conflict with the built-in sum function\n",
        "total_marks = 0\n",
        "for mark in marks:\n",
        "  total_marks += mark\n",
        "\n",
        "average_marks = total_marks / 5\n",
        "\n",
        "# Calculate percentage\n",
        "percentage = average_marks\n",
        "\n",
        "# Find grade\n",
        "grade = calculate_grade(percentage)\n",
        "\n",
        "# Display results\n",
        "print(\"Marks in five major subjects:\", marks)\n",
        "print(\"Total marks:\", total_marks)\n",
        "print(\"Average marks:\", average_marks)\n",
        "print(\"Percentage:\", percentage)\n",
        "print(\"Grade:\", grade)"
      ],
      "metadata": {
        "colab": {
          "base_uri": "https://localhost:8080/"
        },
        "id": "ks0lh1MlX0Ok",
        "outputId": "edae82fc-9b27-42ba-9bd6-3b6d8b3b6774"
      },
      "execution_count": 12,
      "outputs": [
        {
          "output_type": "stream",
          "name": "stdout",
          "text": [
            "Enter marks for subject 1: 55\n",
            "Enter marks for subject 2: 84\n",
            "Enter marks for subject 3: 75.\n",
            "Enter marks for subject 4: 52\n",
            "Enter marks for subject 5: 45\n",
            "Marks in five major subjects: [55.0, 84.0, 75.0, 52.0, 45.0]\n",
            "Total marks: 311.0\n",
            "Average marks: 62.2\n",
            "Percentage: 62.2\n",
            "Grade: C\n"
          ]
        }
      ]
    },
    {
      "cell_type": "markdown",
      "source": [
        "1.13. Write a program for VIBGYOR Spectrum based on their Wavelength using.\n",
        "Wavelength Range:"
      ],
      "metadata": {
        "id": "elnpxnBYX6X-"
      }
    },
    {
      "cell_type": "code",
      "source": [
        "def identify_color(wavelength):\n",
        "  \"\"\"Identifies the color based on the given wavelength.\n",
        "\n",
        "  Args:\n",
        "    wavelength: The wavelength in nanometers.\n",
        "\n",
        "  Returns:\n",
        "    The corresponding color.\n",
        "  \"\"\"\n",
        "\n",
        "  if 400 <= wavelength <= 440:\n",
        "    return \"Violet\"\n",
        "  elif 440 <= wavelength <= 460:\n",
        "    return \"Indigo\"\n",
        "  elif 460 <= wavelength <= 500:\n",
        "    return \"Blue\"\n",
        "  elif 500 <= wavelength <= 570:\n",
        "    return \"Green\"\n",
        "  elif 570 <= wavelength <= 590:\n",
        "    return \"Yellow\"\n",
        "  elif 590 <= wavelength <= 620:\n",
        "    return \"Orange\"\n",
        "  elif 620 <= wavelength <= 720:\n",
        "    return \"Red\"\n",
        "  else:\n",
        "    return \"Invalid wavelength\"\n",
        "\n",
        "# Get wavelength from the user\n",
        "wavelength = float(input(\"Enter the wavelength (in nm): \"))\n",
        "\n",
        "# Identify color\n",
        "color = identify_color(wavelength)\n",
        "\n",
        "# Display result\n",
        "print(\"The color corresponding to the wavelength is:\", color)"
      ],
      "metadata": {
        "colab": {
          "base_uri": "https://localhost:8080/"
        },
        "id": "XVFPt5FZYLKO",
        "outputId": "c0bc8980-6e18-43a8-a0d0-73c1a18601a7"
      },
      "execution_count": 13,
      "outputs": [
        {
          "output_type": "stream",
          "name": "stdout",
          "text": [
            "Enter the wavelength (in nm): 542\n",
            "The color corresponding to the wavelength is: Green\n"
          ]
        }
      ]
    },
    {
      "cell_type": "markdown",
      "source": [
        "1.14.Consider the gravitational interactions between the Earth, Moon, and Sun in our solar system.\n",
        "Given:\n",
        "mass_earth = 5.972e24 # Mass of Earth in kilograms\n",
        "mass_moon = 7.34767309e22 # Mass of Moon in kilograms\n",
        "mass_sun = 1.989e30 # Mass of Sun in kilograms\n",
        "distance_earth_sun = 1.496e11 # Average distance between Earth and Sun in meters\n",
        "distance_moon_earth = 3.844e8 # Average distance between Moon and Earth in meters\n",
        "Tasks\n",
        "/ Calculate the gravitational force between the Earth and the Sun\n",
        "/ Calculate the gravitational force between the Moon and the Earth\n",
        "/ Compare the calculated forces to determine which gravitational force is stronger\n",
        "/ Explain which celestial body (Earth or Moon) is more attracted to the other based on the comparison."
      ],
      "metadata": {
        "id": "StDR-qSoYTwS"
      }
    },
    {
      "cell_type": "code",
      "source": [
        "import math\n",
        "\n",
        "# Gravitational constants and masses\n",
        "G = 6.674e-11  # Gravitational constant in Nm^2/kg^2\n",
        "mass_earth = 5.972e24  # Mass of Earth in kilograms\n",
        "mass_moon = 7.34767309e22  # Mass of Moon in kilograms\n",
        "mass_sun = 1.989e30  # Mass of Sun in kilograms\n",
        "distance_earth_sun = 1.496e11  # Average distance between Earth and Sun in meters\n",
        "distance_moon_earth = 3.844e8  # Average distance between Moon and Earth in meters\n",
        "\n",
        "# Function to calculate gravitational force\n",
        "def calculate_gravitational_force(m1, m2, distance):\n",
        "  \"\"\"Calculates the gravitational force between two objects.\n",
        "\n",
        "  Args:\n",
        "    m1: Mass of the first object.\n",
        "    m2: Mass of the second object.\n",
        "    distance: Distance between the objects.\n",
        "\n",
        "  Returns:\n",
        "    The gravitational force.\n",
        "  \"\"\"\n",
        "\n",
        "  return G * (m1 * m2) / distance**2\n",
        "\n",
        "# Calculate gravitational forces\n",
        "F_earth_sun = calculate_gravitational_force(mass_earth, mass_sun, distance_earth_sun)\n",
        "F_moon_earth = calculate_gravitational_force(mass_moon, mass_earth, distance_moon_earth)\n",
        "\n",
        "#Print gravitational forces\n",
        "print(f\"the gravitational force between the Earth and the Sun: {F_earth_sun}\")\n",
        "print(f\"the gravitational force between the Moon and the Earth: {F_moon_earth}\")\n",
        "# Compare forces and print result\n",
        "if F_earth_sun > F_moon_earth:\n",
        "  print(\"The gravitational force between the Earth and the Sun is stronger.\")\n",
        "elif F_earth_sun < F_moon_earth:\n",
        "  print(\"The gravitational force between the Moon and the Earth is stronger.\")\n",
        "else:\n",
        "  print(\"The gravitational forces are equal.\")"
      ],
      "metadata": {
        "colab": {
          "base_uri": "https://localhost:8080/"
        },
        "id": "rsqVECISdVt1",
        "outputId": "bcbf9172-9d7b-4680-a7b2-f7494c8a7556"
      },
      "execution_count": 18,
      "outputs": [
        {
          "output_type": "stream",
          "name": "stdout",
          "text": [
            "the gravitational force between the Earth and the Sun: 3.5422368558580452e+22\n",
            "the gravitational force between the Moon and the Earth: 1.9819334566450407e+20\n",
            "The gravitational force between the Earth and the Sun is stronger.\n"
          ]
        }
      ]
    },
    {
      "cell_type": "markdown",
      "source": [
        "2. Design and implement a Python program for managing student information using object-oriented\n",
        "principles. Create a class called `Student` with encapsulated attributes for name, age, and roll number.\n",
        "Implement getter and setter methods for these attributes. Additionally, provide methods to display student\n",
        "information and update student details.\n",
        "Tasks\n",
        "3 Define the `Student` class with encapsulated attributes\n",
        "3 Implement getter and setter methods for the attributes\n",
        "3 Write methods to display student information and update details\n",
        "3 Create instances of the `Student` class and test the implemented functionality."
      ],
      "metadata": {
        "id": "vTptC_zUegcv"
      }
    },
    {
      "cell_type": "code",
      "source": [
        "class Student:\n",
        "    \"\"\"Represents a student with name, age, and roll number.\"\"\"\n",
        "\n",
        "    def __init__(self, name, age, roll_number):\n",
        "        \"\"\"Initializes a new Student object.\n",
        "\n",
        "        Args:\n",
        "            name: The student's name.\n",
        "            age: The student's age.\n",
        "            roll_number: The student's roll number.\n",
        "        \"\"\"\n",
        "\n",
        "        self.__name = name\n",
        "        self.__age = age\n",
        "        self.__roll_number = roll_number\n",
        "\n",
        "    def get_name(self):\n",
        "        \"\"\"Returns the student's name.\"\"\"\n",
        "        return self.__name\n",
        "\n",
        "    def set_name(self, name):\n",
        "        \"\"\"Sets the student's name.\"\"\"\n",
        "        self.__name = name\n",
        "\n",
        "    def get_age(self):\n",
        "        \"\"\"Returns the student's age.\"\"\"\n",
        "        return self.__age\n",
        "\n",
        "    def set_age(self, age):\n",
        "        \"\"\"Sets the student's age.\"\"\"\n",
        "        self.__age = age\n",
        "\n",
        "    def get_roll_number(self):\n",
        "        \"\"\"Returns the student's roll number.\"\"\"\n",
        "        return self.__roll_number\n",
        "\n",
        "    def set_roll_number(self, roll_number):\n",
        "        \"\"\"Sets the student's roll number.\"\"\"\n",
        "        self.__roll_number = roll_number\n",
        "\n",
        "    def display_info(self):\n",
        "        \"\"\"Displays the student's information.\"\"\"\n",
        "        print(f\"Name: {self.__name}\")\n",
        "        print(f\"Age: {self.__age}\")\n",
        "        print(f\"Roll Number: {self.__roll_number}\")\n",
        "\n",
        "    def update_details(self, new_name, new_age, new_roll_number):\n",
        "        \"\"\"Updates the student's details.\n",
        "\n",
        "        Args:\n",
        "            new_name: The new name.\n",
        "            new_age: The new age.\n",
        "            new_roll_number: The new roll number.\n",
        "        \"\"\"\n",
        "\n",
        "        self.__name = new_name\n",
        "        self.__age = new_age\n",
        "        self.__roll_number = new_roll_number\n",
        "\n",
        "# Create instances of the Student class\n",
        "student1 = Student(\"Dhriti\", 20, 12345)\n",
        "student2 = Student(\"Suman\", 22, 67890)\n",
        "\n",
        "# Display student information\n",
        "student1.display_info()\n",
        "student2.display_info()\n",
        "\n",
        "# Update student details\n",
        "student1.update_details(\"Dhriti Suman\", 21, 123456)\n",
        "\n",
        "# Display updated information\n",
        "student1.display_info()"
      ],
      "metadata": {
        "colab": {
          "base_uri": "https://localhost:8080/"
        },
        "id": "AreqgqWZehlJ",
        "outputId": "4120ee4a-fa85-4bfb-bd53-f8737dbe4bea"
      },
      "execution_count": 20,
      "outputs": [
        {
          "output_type": "stream",
          "name": "stdout",
          "text": [
            "Name: Dhriti\n",
            "Age: 20\n",
            "Roll Number: 12345\n",
            "Name: Suman\n",
            "Age: 22\n",
            "Roll Number: 67890\n",
            "Name: Dhriti Suman\n",
            "Age: 21\n",
            "Roll Number: 123456\n"
          ]
        }
      ]
    },
    {
      "cell_type": "markdown",
      "source": [
        "3.Develop a Python program for managing library resources efficiently. Design a class named `LibraryBook`\n",
        "with attributes like book name, author, and availability status. Implement methods for borrowing and\n",
        "returning books while ensuring proper encapsulation of attributes.\n",
        "Tasks\n",
        "3 1. Create the `LibraryBook` class with encapsulated attributes\n",
        "3 2. Implement methods for borrowing and returning books\n",
        "3 3. Ensure proper encapsulation to protect book details\n",
        "3 4. Test the borrowing and returning functionality with sample data."
      ],
      "metadata": {
        "id": "ka_ENss5e-yR"
      }
    },
    {
      "cell_type": "code",
      "source": [
        "class LibraryBook:\n",
        "    \"\"\"Represents a book in a library.\"\"\"\n",
        "\n",
        "    def __init__(self, book_name, author):\n",
        "        \"\"\"Initializes a new LibraryBook object.\n",
        "\n",
        "        Args:\n",
        "            book_name: The name of the book.\n",
        "            author: The author of the book.\n",
        "        \"\"\"\n",
        "\n",
        "        self.__book_name = book_name\n",
        "        self.__author = author\n",
        "        self.__is_available = True\n",
        "\n",
        "    def get_book_name(self):\n",
        "        \"\"\"Returns the name of the book.\"\"\"\n",
        "        return self.__book_name\n",
        "\n",
        "    def get_author(self):\n",
        "        \"\"\"Returns the author of the book.\"\"\"\n",
        "        return self.__author\n",
        "\n",
        "    def is_available(self):\n",
        "        \"\"\"Checks if the book is available.\"\"\"\n",
        "        return self.__is_available\n",
        "\n",
        "    def borrow_book(self):\n",
        "        \"\"\"Borrows the book if it's available.\"\"\"\n",
        "        if self.__is_available:\n",
        "            self.__is_available = False\n",
        "            print(f\"{self.__book_name} has been borrowed.\")\n",
        "        else:\n",
        "            print(f\"{self.__book_name} is already borrowed.\")\n",
        "\n",
        "    def return_book(self):\n",
        "        \"\"\"Returns the book.\"\"\"\n",
        "        if not self.__is_available:\n",
        "            self.__is_available = True\n",
        "            print(f\"{self.__book_name} has been returned.\")\n",
        "        else:\n",
        "            print(f\"{self.__book_name} is already available.\")\n",
        "\n",
        "# Create sample books\n",
        "book1 = LibraryBook(\"The Great Gatsby\", \"F. Scott Fitzgerald\")\n",
        "book2 = LibraryBook(\"To Kill a Mockingbird\", \"Harper Lee\")\n",
        "\n",
        "# Borrow and return books\n",
        "book1.borrow_book()\n",
        "book2.borrow_book()\n",
        "book1.return_book()\n",
        "book2.borrow_book()\n",
        "book1.borrow_book()\n"
      ],
      "metadata": {
        "colab": {
          "base_uri": "https://localhost:8080/"
        },
        "id": "f8U_weYMfCNU",
        "outputId": "8288b348-c00c-412f-ec16-02da10def8a6"
      },
      "execution_count": 21,
      "outputs": [
        {
          "output_type": "stream",
          "name": "stdout",
          "text": [
            "The Great Gatsby has been borrowed.\n",
            "To Kill a Mockingbird has been borrowed.\n",
            "The Great Gatsby has been returned.\n",
            "To Kill a Mockingbird is already borrowed.\n",
            "The Great Gatsby has been borrowed.\n"
          ]
        }
      ]
    },
    {
      "cell_type": "markdown",
      "source": [
        "4.Create a simple banking system using object-oriented concepts in Python. Design classes representing\n",
        "different types of bank accounts such as savings and checking. Implement methods for deposit, withdraw,\n",
        "and balance inquiry. Utilize inheritance to manage different account types efficiently.\n",
        "Tasks\n",
        "3 1. Define base class(es) for bank accounts with common attributes and methods\n",
        "3 2. Implement subclasses for specific account types (e.g., SavingsAccount, CheckingAccount)\n",
        "3 3. Provide methods for deposit, withdraw, and balance inquiry in each subclass\n",
        "3 4. Test the banking system by creating instances of different account types and performing transactions."
      ],
      "metadata": {
        "id": "l5oCbP_7fPqj"
      }
    },
    {
      "cell_type": "code",
      "source": [
        "class SavingsAccount(BankAccount):\n",
        "    \"\"\"Represents a savings account.\"\"\"\n",
        "\n",
        "    def __init__(self, account_number, initial_balance, interest_rate):\n",
        "        \"\"\"Initializes a new SavingsAccount object.\n",
        "\n",
        "        Args:\n",
        "            account_number: The unique account number.\n",
        "            initial_balance: The initial balance of the account.\n",
        "            interest_rate: The annual interest rate for the account.\n",
        "        \"\"\"\n",
        "\n",
        "        super().__init__(account_number, initial_balance)\n",
        "        self.__interest_rate = interest_rate\n",
        "\n",
        "    def calculate_interest(self):\n",
        "        \"\"\"Calculates and adds interest to the account balance.\"\"\"\n",
        "        # Use getter method to access balance from parent class\n",
        "        interest = self.get_balance() * self.__interest_rate / 100\n",
        "        # Use setter method to update the balance in the parent class\n",
        "        self.deposit(interest) # Use deposit method to update balance\n",
        "        print(f\"Interest of {interest} added to account {self.get_account_number()}. New balance: {self.get_balance()}\")"
      ],
      "metadata": {
        "id": "Nqw0YoXyf3EC"
      },
      "execution_count": 24,
      "outputs": []
    },
    {
      "cell_type": "markdown",
      "source": [
        "5.Write a Python program that models different animals and their sounds. Design a base class called\n",
        "`Animal` with a method `make_sound()`. Create subclasses like `Dog` and `Cat` that override the\n",
        "`make_sound()` method to produce appropriate sounds.\n",
        "Tasks\n",
        "3 1. Define the `Animal` class with a method `make_sound()`\n",
        "3 2. Create subclasses `Dog` and `Cat` that override the `make_sound()` method\n",
        "3 3. Implement the sound generation logic for each subclass\n",
        "3 4. Test the program by creating instances of `Dog` and `Cat` and calling the `make_sound()` method."
      ],
      "metadata": {
        "id": "9wZxv6WegIaw"
      }
    },
    {
      "cell_type": "code",
      "source": [
        "class Animal:\n",
        "    \"\"\"Represents a generic animal.\"\"\"\n",
        "\n",
        "    def make_sound(self):\n",
        "        \"\"\"Makes a generic animal sound.\"\"\"\n",
        "        print(\"Generic animal sound\")\n",
        "\n",
        "class Dog(Animal):\n",
        "    \"\"\"Represents a dog.\"\"\"\n",
        "\n",
        "    def make_sound(self):\n",
        "        \"\"\"Makes a dog sound.\"\"\"\n",
        "        print(\"Woof!\")\n",
        "\n",
        "class Cat(Animal):\n",
        "    \"\"\"Represents a cat.\"\"\"\n",
        "\n",
        "    def make_sound(self):\n",
        "        \"\"\"Makes a cat sound.\"\"\"\n",
        "        print(\"Meow!\")\n",
        "\n",
        "# Create instances of Dog and Cat\n",
        "dog = Dog()\n",
        "cat = Cat()\n",
        "\n",
        "# Call the make_sound() method for each animal\n",
        "dog.make_sound()\n",
        "cat.make_sound()"
      ],
      "metadata": {
        "colab": {
          "base_uri": "https://localhost:8080/"
        },
        "id": "HCr7oM1YgRGf",
        "outputId": "4c5f84a9-06ac-45d4-baee-b1d6c5855b8f"
      },
      "execution_count": 25,
      "outputs": [
        {
          "output_type": "stream",
          "name": "stdout",
          "text": [
            "Woof!\n",
            "Meow!\n"
          ]
        }
      ]
    },
    {
      "cell_type": "markdown",
      "source": [
        "6.Write a code for Restaurant Management System Using OOPS3\n",
        "& Create a MenuItem class that has attributes such as name, description, price, and category\n",
        "& Implement methods to add a new menu item, update menu item information, and remove a menu item\n",
        "from the menu\n",
        "& Use encapsulation to hide the menu item's unique identification number\n",
        "& Inherit from the MenuItem class to create a FoodItem class and a BeverageItem class, each with their own\n",
        "specific attributes and methods."
      ],
      "metadata": {
        "id": "zo8va4qjgZTs"
      }
    },
    {
      "cell_type": "code",
      "source": [
        "class MenuItem:\n",
        "    \"\"\"Represents a menu item.\"\"\"\n",
        "\n",
        "    def __init__(self, name, description, price, category):\n",
        "        \"\"\"Initializes a new MenuItem object.\n",
        "\n",
        "        Args:\n",
        "            name: The name of the menu item.\n",
        "            description: The description of the menu item.\n",
        "            price: The price of the menu item.\n",
        "            category: The category of the menu item (e.g., \"Food\", \"Beverage\").\n",
        "        \"\"\"\n",
        "\n",
        "        self.__unique_id = self.__generate_unique_id()\n",
        "        self.__name = name\n",
        "        self.__description = description\n",
        "        self.__price = price\n",
        "        self.__category = category\n",
        "\n",
        "    def get_unique_id(self):\n",
        "        \"\"\"Returns the unique identification number of the menu item.\"\"\"\n",
        "        return self.__unique_id\n",
        "\n",
        "    def get_name(self):\n",
        "        \"\"\"Returns the name of the menu item.\"\"\"\n",
        "        return self.__name\n",
        "\n",
        "    def get_description(self):\n",
        "        \"\"\"Returns the description of the menu item.\"\"\"\n",
        "        return self.__description\n",
        "\n",
        "    def get_price(self):\n",
        "        \"\"\"Returns the price of the menu item.\"\"\"\n",
        "        return self.__price\n",
        "\n",
        "    def get_category(self):\n",
        "        \"\"\"Returns the category of the menu item.\"\"\"\n",
        "        return self.__category\n",
        "\n",
        "    def __generate_unique_id(self):\n",
        "        \"\"\"Generates a unique identification number for the menu item.\"\"\"\n",
        "        # Implement a suitable algorithm to generate a unique ID\n",
        "        # For example, you could use a timestamp or a random number generator\n",
        "        return 12345  # Replace with your unique ID generation logic\n",
        "\n",
        "class FoodItem(MenuItem):\n",
        "    \"\"\"Represents a food item.\"\"\"\n",
        "\n",
        "    def __init__(self, name, description, price, category, is_vegetarian):\n",
        "        \"\"\"Initializes a new FoodItem object.\n",
        "\n",
        "        Args:\n",
        "            name: The name of the food item.\n",
        "            description: The description of the food item.\n",
        "            price: The price of the food item.\n",
        "            category: The category of the food item (e.g., \"Appetizer\", \"Main Course\", \"Dessert\").\n",
        "            is_vegetarian: Whether the food item is vegetarian.\n",
        "        \"\"\"\n",
        "\n",
        "        super().__init__(name, description, price, category)\n",
        "        self.__is_vegetarian = is_vegetarian\n",
        "\n",
        "    def is_vegetarian(self):\n",
        "        \"\"\"Checks if the food item is vegetarian.\"\"\"\n",
        "        return self.__is_vegetarian\n",
        "\n",
        "class BeverageItem(MenuItem):\n",
        "    \"\"\"Represents a beverage item.\"\"\"\n",
        "\n",
        "    def __init__(self, name, description, price, category, size):\n",
        "        \"\"\"Initializes a new BeverageItem object.\n",
        "\n",
        "        Args:\n",
        "            name: The name of the beverage item.\n",
        "            description: The description of the beverage item.\n",
        "            price: The price of the beverage item.\n",
        "            category: The category of the beverage item (e.g., \"Soft Drink\", \"Coffee\", \"Tea\").\n",
        "            size: The size of the beverage.\n",
        "        \"\"\"\n",
        "\n",
        "        super().__init__(name, description, price, category)\n",
        "        self.__size = size\n",
        "\n",
        "    def get_size(self):\n",
        "        \"\"\"Returns the size of the beverage.\"\"\"\n",
        "        return self.__size\n",
        "\n",
        "# Create instances of MenuItem, FoodItem, and BeverageItem\n",
        "menu_item = MenuItem(\"Pizza\", \"Delicious cheesy pizza\", 10.99, \"Food\")\n",
        "food_item = FoodItem(\"Pasta\", \"Spaghetti with tomato sauce\", 8.99, \"Main Course\", True)\n",
        "beverage_item = BeverageItem(\"Coke\", \"Refreshing soft drink\", 2.99, \"Beverage\", \"Large\")\n",
        "\n",
        "# Display menu item information\n",
        "print(menu_item.get_name())\n",
        "print(food_item.is_vegetarian())\n",
        "print(beverage_item.get_size())\n",
        "\n",
        "# Add a new menu item\n",
        "# ... (Implement logic to add a new menu item to a menu list)\n",
        "\n",
        "# Update menu item information\n",
        "# ... (Implement logic to update the information of an existing menu item)\n",
        "\n",
        "# Remove a menu item\n",
        "# ... (Implement logic to remove a menu item from the menu list)"
      ],
      "metadata": {
        "colab": {
          "base_uri": "https://localhost:8080/"
        },
        "id": "dxJ-Z76zFPB6",
        "outputId": "6aaefa0f-8c3f-4475-c6c8-172958432946"
      },
      "execution_count": 1,
      "outputs": [
        {
          "output_type": "stream",
          "name": "stdout",
          "text": [
            "Pizza\n",
            "True\n",
            "Large\n"
          ]
        }
      ]
    },
    {
      "cell_type": "markdown",
      "source": [
        "7.Write a code for Hotel Management System using OOPS 3\n",
        "& Create a Room class that has attributes such as room number, room type, rate, and availability (private)\n",
        "& Implement methods to book a room, check in a guest, and check out a guest\n",
        "& Use encapsulation to hide the room's unique identification number\n",
        "& Inherit from the Room class to create a SuiteRoom class and a StandardRoom class, each with their own\n",
        "specific attributes and methods."
      ],
      "metadata": {
        "id": "ZfWRmyXQFeMX"
      }
    },
    {
      "cell_type": "code",
      "source": [
        "class Room:\n",
        "    \"\"\"Represents a hotel room.\"\"\"\n",
        "\n",
        "    def __init__(self, room_number, room_type, rate):\n",
        "        \"\"\"Initializes a new Room object.\n",
        "\n",
        "        Args:\n",
        "            room_number: The unique room number.\n",
        "            room_type: The type of room (e.g., \"Standard\", \"Suite\").\n",
        "            rate: The daily rate for the room.\n",
        "        \"\"\"\n",
        "\n",
        "        self.__room_number = room_number\n",
        "        self.__room_type = room_type\n",
        "        self.__rate = rate\n",
        "        self.__is_available = True\n",
        "\n",
        "    def get_room_number(self):\n",
        "        \"\"\"Returns the room number.\"\"\"\n",
        "        return self.__room_number\n",
        "\n",
        "    def get_room_type(self):\n",
        "        \"\"\"Returns the room type.\"\"\"\n",
        "        return self.__room_type\n",
        "\n",
        "    def get_rate(self):\n",
        "        \"\"\"Returns the daily rate for the room.\"\"\"\n",
        "        return self.__rate\n",
        "\n",
        "    def is_available(self):\n",
        "        \"\"\"Checks if the room is available.\"\"\"\n",
        "        return self.__is_available\n",
        "\n",
        "    def book_room(self):\n",
        "        \"\"\"Books the room if it's available.\"\"\"\n",
        "        if self.__is_available:\n",
        "            self.__is_available = False\n",
        "            print(f\"Room {self.__room_number} has been booked.\")\n",
        "        else:\n",
        "            print(f\"Room {self.__room_number} is already booked.\")\n",
        "\n",
        "    def check_in_guest(self, guest_name):\n",
        "        \"\"\"Checks in a guest to the room.\"\"\"\n",
        "        if not self.__is_available:\n",
        "            print(f\"Guest {guest_name} has checked in to Room {self.__room_number}.\")\n",
        "        else:\n",
        "            print(f\"Room {self.__room_number} is not available for check-in.\")\n",
        "\n",
        "    def check_out_guest(self):\n",
        "        \"\"\"Checks out a guest from the room.\"\"\"\n",
        "        if not self.__is_available:\n",
        "            self.__is_available = True\n",
        "            print(f\"Guest has checked out from Room {self.__room_number}.\")\n",
        "        else:\n",
        "            print(f\"Room {self.__room_number} is already unoccupied.\")\n",
        "\n",
        "class SuiteRoom(Room):\n",
        "    \"\"\"Represents a suite room.\"\"\"\n",
        "\n",
        "    def __init__(self, room_number, rate, additional_features):\n",
        "        \"\"\"Initializes a new SuiteRoom object.\n",
        "\n",
        "        Args:\n",
        "            room_number: The unique room number.\n",
        "            rate: The daily rate for the room.\n",
        "            additional_features: A list of additional features included in the suite.\n",
        "        \"\"\"\n",
        "\n",
        "        super().__init__(room_number, \"Suite\", rate)\n",
        "        self.__additional_features = additional_features\n",
        "\n",
        "    def get_additional_features(self):\n",
        "        \"\"\"Returns the additional features included in the suite.\"\"\"\n",
        "        return self.__additional_features\n",
        "\n",
        "class StandardRoom(Room):\n",
        "    \"\"\"Represents a standard room.\"\"\"\n",
        "\n",
        "    def __init__(self, room_number, rate):\n",
        "        \"\"\"Initializes a new StandardRoom object.\n",
        "\n",
        "        Args:\n",
        "            room_number: The unique room number.\n",
        "            rate: The daily rate for the room.\n",
        "        \"\"\"\n",
        "\n",
        "        super().__init__(room_number, \"Standard\", rate)\n",
        "\n",
        "# Create instances of Room, SuiteRoom, and StandardRoom\n",
        "standard_room = StandardRoom(101, 100)\n",
        "suite_room = SuiteRoom(201, 200, [\"King-size bed\", \"Balcony\"])\n",
        "\n",
        "# Book and manage rooms\n",
        "standard_room.book_room()\n",
        "standard_room.check_in_guest(\"John Doe\")\n",
        "standard_room.check_out_guest()\n",
        "suite_room.book_room()\n",
        "suite_room.check_in_guest(\"Jane Smith\")"
      ],
      "metadata": {
        "colab": {
          "base_uri": "https://localhost:8080/"
        },
        "id": "bXrR6O2LFl9L",
        "outputId": "017708e4-054f-46ab-9ae7-2ae418ae5b20"
      },
      "execution_count": 2,
      "outputs": [
        {
          "output_type": "stream",
          "name": "stdout",
          "text": [
            "Room 101 has been booked.\n",
            "Guest John Doe has checked in to Room 101.\n",
            "Guest has checked out from Room 101.\n",
            "Room 201 has been booked.\n",
            "Guest Jane Smith has checked in to Room 201.\n"
          ]
        }
      ]
    },
    {
      "cell_type": "markdown",
      "source": [
        "8.Write a code for Fitness Club Management System using OOPS3\n",
        "& Create a Member class that has attributes such as name, age, membership type, and membership status\n",
        "(private)\n",
        "& Implement methods to register a new member, renew a membership, and cancel a membership\n",
        "& Use encapsulation to hide the member's unique identification number\n",
        "& Inherit from the Member class to create a FamilyMember class and an IndividualMember class, each with\n",
        "their own specific attributes and methods"
      ],
      "metadata": {
        "id": "cNOIGP18F1iy"
      }
    },
    {
      "cell_type": "code",
      "source": [
        "import uuid\n",
        "\n",
        "class Member:\n",
        "    \"\"\"Represents a member of the fitness club.\"\"\"\n",
        "\n",
        "    def __init__(self, name, age, membership_type):\n",
        "        \"\"\"Initializes a new Member object.\n",
        "\n",
        "        Args:\n",
        "            name: The name of the member.\n",
        "            age: The age of the member.\n",
        "            membership_type: The type of membership (e.g., \"Individual\", \"Family\").\n",
        "        \"\"\"\n",
        "\n",
        "        self.__member_id = str(uuid.uuid4())\n",
        "        self.__name = name\n",
        "        self.__age = age\n",
        "        self.__membership_type = membership_type\n",
        "        self.__is_active = True\n",
        "\n",
        "    def get_member_id(self):\n",
        "        \"\"\"Returns the unique member ID.\"\"\"\n",
        "        return self.__member_id\n",
        "\n",
        "    def get_name(self):\n",
        "        \"\"\"Returns the name of the member.\"\"\"\n",
        "        return self.__name\n",
        "\n",
        "    def get_age(self):\n",
        "        \"\"\"Returns the age of the member.\"\"\"\n",
        "        return self.__age\n",
        "\n",
        "    def get_membership_type(self):\n",
        "        \"\"\"Returns the membership type.\"\"\"\n",
        "        return self.__membership_type\n",
        "\n",
        "    def is_active(self):\n",
        "        \"\"\"Checks if the membership is active.\"\"\"\n",
        "        return self.__is_active\n",
        "\n",
        "    def register_member(self):\n",
        "        \"\"\"Registers a new member.\"\"\"\n",
        "        if not self.__is_active:\n",
        "            self.__is_active = True\n",
        "            print(f\"Member {self.__name} has been registered.\")\n",
        "        else:\n",
        "            print(f\"Member {self.__name} is already registered.\")\n",
        "\n",
        "    def renew_membership(self):\n",
        "        \"\"\"Renews the membership.\"\"\"\n",
        "        if self.__is_active:\n",
        "            print(f\"Membership for {self.__name} has been renewed.\")\n",
        "        else:\n",
        "            print(f\"Membership for {self.__name} is not active.\")\n",
        "\n",
        "    def cancel_membership(self):\n",
        "        \"\"\"Cancels the membership.\"\"\"\n",
        "        if self.__is_active:\n",
        "            self.__is_active = False\n",
        "            print(f\"Membership for {self.__name} has been canceled.\")\n",
        "        else:\n",
        "            print(f\"Membership for {self.__name} is already canceled.\")\n",
        "\n",
        "class FamilyMember(Member):\n",
        "    \"\"\"Represents a family member.\"\"\"\n",
        "\n",
        "    def __init__(self, name, age, membership_type, family_head):\n",
        "        \"\"\"Initializes a new FamilyMember object.\n",
        "\n",
        "        Args:\n",
        "            name: The name of the family member.\n",
        "            age: The age of the family member.\n",
        "            membership_type: The membership type (must be \"Family\").\n",
        "            family_head: The name of the family head.\n",
        "        \"\"\"\n",
        "\n",
        "        super().__init__(name, age, membership_type)\n",
        "        self.__family_head = family_head\n",
        "\n",
        "    def get_family_head(self):\n",
        "        \"\"\"Returns the name of the family head.\"\"\"\n",
        "        return self.__family_head\n",
        "\n",
        "class IndividualMember(Member):\n",
        "    \"\"\"Represents an individual member.\"\"\"\n",
        "\n",
        "    def __init__(self, name, age, membership_type):\n",
        "        \"\"\"Initializes a new IndividualMember object.\n",
        "\n",
        "        Args:\n",
        "            name: The name of the individual member.\n",
        "            age: The age of the individual member.\n",
        "            membership_type: The membership type (must be \"Individual\").\n",
        "        \"\"\"\n",
        "\n",
        "        super().__init__(name, age, membership_type)\n",
        "\n",
        "# Create instances of Member, FamilyMember, and IndividualMember\n",
        "individual_member = IndividualMember(\"John Doe\", 30, \"Individual\")\n",
        "family_member = FamilyMember(\"Jane Doe\", 25, \"Family\", \"John Doe\")\n",
        "\n",
        "# Register, renew, and cancel memberships\n",
        "individual_member.register_member()\n",
        "individual_member.renew_membership()\n",
        "individual_member.cancel_membership()\n",
        "family_member.register_member()\n",
        "family_member.renew_membership()"
      ],
      "metadata": {
        "colab": {
          "base_uri": "https://localhost:8080/"
        },
        "id": "-bfwveGEF5bo",
        "outputId": "01a9466e-cae2-4e02-b3d4-6663af7f9ca9"
      },
      "execution_count": 3,
      "outputs": [
        {
          "output_type": "stream",
          "name": "stdout",
          "text": [
            "Member John Doe is already registered.\n",
            "Membership for John Doe has been renewed.\n",
            "Membership for John Doe has been canceled.\n",
            "Member Jane Doe is already registered.\n",
            "Membership for Jane Doe has been renewed.\n"
          ]
        }
      ]
    },
    {
      "cell_type": "markdown",
      "source": [
        "9.Write a code for Event Management System using OOPS3\n",
        "& Create an Event class that has attributes such as name, date, time, location, and list of attendees (private)\n",
        "& Implement methods to create a new event, add or remove attendees, and get the total number of\n",
        "attendees\n",
        "& Use encapsulation to hide the event's unique identification number\n",
        "& Inherit from the Event class to create a PrivateEvent class and a PublicEvent class, each with their own\n",
        "specific attributes and methods."
      ],
      "metadata": {
        "id": "gCmU3yq5GAnp"
      }
    },
    {
      "cell_type": "code",
      "source": [
        "import uuid\n",
        "\n",
        "class Event:\n",
        "    \"\"\"Represents an event.\"\"\"\n",
        "\n",
        "    def __init__(self, name, date, time, location):\n",
        "        \"\"\"Initializes a new Event object.\n",
        "\n",
        "        Args:\n",
        "            name: The name of the event.\n",
        "            date: The date of the event.\n",
        "            time: The time of the event.\n",
        "            location: The location of the event.\n",
        "        \"\"\"\n",
        "\n",
        "        self.__event_id = str(uuid.uuid4())\n",
        "        self.__name = name\n",
        "        self.__date = date\n",
        "        self.__time = time\n",
        "        self.__location = location\n",
        "        self.__attendees = []\n",
        "\n",
        "    def get_event_id(self):\n",
        "        \"\"\"Returns the unique event ID.\"\"\"\n",
        "        return self.__event_id\n",
        "\n",
        "    def get_name(self):\n",
        "        \"\"\"Returns the name of the event.\"\"\"\n",
        "        return self.__name\n",
        "\n",
        "    def get_date(self):\n",
        "        \"\"\"Returns the date of the event.\"\"\"\n",
        "        return self.__date\n",
        "\n",
        "    def get_time(self):\n",
        "        \"\"\"Returns the time of the event.\"\"\"\n",
        "        return self.__time\n",
        "\n",
        "    def get_location(self):\n",
        "        \"\"\"Returns the location of the event.\"\"\"\n",
        "        return self.__location\n",
        "\n",
        "    def get_attendees(self):\n",
        "        \"\"\"Returns the list of attendees.\"\"\"\n",
        "        return self.__attendees\n",
        "\n",
        "    def add_attendee(self, attendee):\n",
        "        \"\"\"Adds an attendee to the event.\"\"\"\n",
        "        self.__attendees.append(attendee)\n",
        "\n",
        "    def remove_attendee(self, attendee):\n",
        "        \"\"\"Removes an attendee from the event.\"\"\"\n",
        "        self.__attendees.remove(attendee)\n",
        "\n",
        "    def get_total_attendees(self):\n",
        "        \"\"\"Returns the total number of attendees.\"\"\"\n",
        "        return len(self.__attendees)\n",
        "\n",
        "class PrivateEvent(Event):\n",
        "    \"\"\"Represents a private event.\"\"\"\n",
        "\n",
        "    def __init__(self, name, date, time, location, invitation_list):\n",
        "        \"\"\"Initializes a new PrivateEvent object.\n",
        "\n",
        "        Args:\n",
        "            name: The name of the private event.\n",
        "            date: The date of the private event.\n",
        "            time: The time of the private event.\n",
        "            location: The location of the private event.\n",
        "            invitation_list: A list of invited attendees.\n",
        "        \"\"\"\n",
        "\n",
        "        super().__init__(name, date, time, location)\n",
        "        self.__invitation_list = invitation_list\n",
        "\n",
        "    def get_invitation_list(self):\n",
        "        \"\"\"Returns the list of invited attendees.\"\"\"\n",
        "        return self.__invitation_list\n",
        "\n",
        "class PublicEvent(Event):\n",
        "    \"\"\"Represents a public event.\"\"\"\n",
        "\n",
        "    def __init__(self, name, date, time, location, max_attendees):\n",
        "        \"\"\"Initializes a new PublicEvent object.\n",
        "\n",
        "        Args:\n",
        "            name: The name of the public event.\n",
        "            date: The date of the public event.\n",
        "            time: The time of the public event.\n",
        "            location: The location of the public event.\n",
        "            max_attendees: The maximum number of attendees allowed.\n",
        "        \"\"\"\n",
        "\n",
        "        super().__init__(name, date, time, location)\n",
        "        self.__max_attendees = max_attendees\n",
        "\n",
        "    def get_max_attendees(self):\n",
        "        \"\"\"Returns the maximum number of attendees allowed.\"\"\"\n",
        "        return self.__max_attendees\n",
        "\n",
        "# Create instances of Event, PrivateEvent, and PublicEvent\n",
        "event = Event(\"Company Party\", \"2023-12-31\", \"19:00\", \"Office\")\n",
        "private_event = PrivateEvent(\"Birthday Party\", \"2023-12-25\", \"17:00\", \"Home\", [\"Alice\", \"Bob\", \"Charlie\"])\n",
        "public_event = PublicEvent(\"Community Festival\", \"2024-01-01\", \"10:00\", \"Park\", 1000)\n",
        "\n",
        "# Add and remove attendees\n",
        "event.add_attendee(\"David\")\n",
        "event.add_attendee(\"Emily\")\n",
        "event.remove_attendee(\"David\")\n",
        "\n",
        "# Get total attendees\n",
        "print(event.get_total_attendees())\n",
        "\n",
        "# Access specific event properties\n",
        "print(private_event.get_invitation_list())\n",
        "print(public_event.get_max_attendees())"
      ],
      "metadata": {
        "colab": {
          "base_uri": "https://localhost:8080/"
        },
        "id": "vrxpYy1vGIWa",
        "outputId": "1815e024-bd2e-4f0f-80ca-6f9be6ffe771"
      },
      "execution_count": 4,
      "outputs": [
        {
          "output_type": "stream",
          "name": "stdout",
          "text": [
            "1\n",
            "['Alice', 'Bob', 'Charlie']\n",
            "1000\n"
          ]
        }
      ]
    },
    {
      "cell_type": "markdown",
      "source": [
        "10.Write a code for Airline Reservation System using OOPS3\n",
        "& Create a Flight class that has attributes such as flight number, departure and arrival airports, departure and\n",
        "arrival times, and available seats (private)\n",
        "& Implement methods to book a seat, cancel a reservation, and get the remaining available seats\n",
        "& Use encapsulation to hide the flight's unique identification number\n",
        "& Inherit from the Flight class to create a DomesticFlight class and an InternationalFlight class, each with their\n",
        "own specific attributes and methods."
      ],
      "metadata": {
        "id": "SwmgSfucGML1"
      }
    },
    {
      "cell_type": "code",
      "source": [
        "import uuid\n",
        "\n",
        "class Flight:\n",
        "    \"\"\"Represents a flight.\"\"\"\n",
        "\n",
        "    def __init__(self, flight_number, departure_airport, arrival_airport, departure_time, arrival_time, total_seats):\n",
        "        \"\"\"Initializes a new Flight object.\n",
        "\n",
        "        Args:\n",
        "            flight_number: The unique flight number.\n",
        "            departure_airport: The departure airport.\n",
        "            arrival_airport: The arrival airport.\n",
        "            departure_time: The departure time.\n",
        "            arrival_time: The arrival time.\n",
        "            total_seats: The total number of seats available on the flight.\n",
        "        \"\"\"\n",
        "\n",
        "        self.__flight_id = str(uuid.uuid4())\n",
        "        self.__flight_number = flight_number\n",
        "        self.__departure_airport = departure_airport\n",
        "        self.__arrival_airport = arrival_airport\n",
        "        self.__departure_time = departure_time\n",
        "        self.__arrival_time = arrival_time\n",
        "        self.__available_seats = total_seats\n",
        "\n",
        "    def get_flight_id(self):\n",
        "        \"\"\"Returns the unique flight ID.\"\"\"\n",
        "        return self.__flight_id\n",
        "\n",
        "    def get_flight_number(self):\n",
        "        \"\"\"Returns the flight number.\"\"\"\n",
        "        return self.__flight_number\n",
        "\n",
        "    def get_departure_airport(self):\n",
        "        \"\"\"Returns the departure airport.\"\"\"\n",
        "        return self.__departure_airport\n",
        "\n",
        "    def get_arrival_airport(self):\n",
        "        \"\"\"Returns the arrival airport.\"\"\"\n",
        "        return self.__arrival_airport\n",
        "\n",
        "    def get_departure_time(self):\n",
        "        \"\"\"Returns the departure time.\"\"\"\n",
        "        return self.__departure_time\n",
        "\n",
        "    def get_arrival_time(self):\n",
        "        \"\"\"Returns the arrival time.\"\"\"\n",
        "        return self.__arrival_time\n",
        "\n",
        "    def get_available_seats(self):\n",
        "        \"\"\"Returns the number of available seats.\"\"\"\n",
        "        return self.__available_seats\n",
        "\n",
        "    def book_seat(self):\n",
        "        \"\"\"Books a seat on the flight.\"\"\"\n",
        "        if self.__available_seats > 0:\n",
        "            self.__available_seats -= 1\n",
        "            print(f\"Seat booked on flight {self.__flight_number}. Remaining seats: {self.__available_seats}\")\n",
        "        else:\n",
        "            print(f\"Flight {self.__flight_number} is fully booked.\")\n",
        "\n",
        "    def cancel_reservation(self):\n",
        "        \"\"\"Cancels a reservation on the flight.\"\"\"\n",
        "        if self.__available_seats < self.get_available_seats(): # Changed from self.__total_seats\n",
        "            self.__available_seats += 1\n",
        "            print(f\"Reservation canceled on flight {self.__flight_number}. Remaining seats: {self.__available_seats}\")\n",
        "        else:\n",
        "            print(f\"Flight {self.__flight_number} has no existing reservations.\")\n",
        "\n",
        "class DomesticFlight(Flight):\n",
        "    \"\"\"Represents a domestic flight.\"\"\"\n",
        "\n",
        "    def __init__(self, flight_number, departure_airport, arrival_airport, departure_time, arrival_time, total_seats, baggage_allowance):\n",
        "        \"\"\"Initializes a new DomesticFlight object.\n",
        "\n",
        "        Args:\n",
        "            flight_number: The unique flight number.\n",
        "            departure_airport: The departure airport.\n",
        "            arrival_airport: The arrival airport.\n",
        "            departure_time: The departure time.\n",
        "            arrival_time: The arrival time.\n",
        "            total_seats: The total number of seats available on the flight.\n",
        "            baggage_allowance: The baggage allowance for the flight.\n",
        "        \"\"\"\n",
        "\n",
        "        super().__init__(flight_number, departure_airport, arrival_airport, departure_time, arrival_time, total_seats)\n",
        "        self.__baggage_allowance = baggage_allowance\n",
        "\n",
        "    def get_baggage_allowance(self):\n",
        "        \"\"\"Returns the baggage allowance for the flight.\"\"\"\n",
        "        return self.__baggage_allowance\n",
        "\n",
        "class InternationalFlight(Flight):\n",
        "    \"\"\"Represents an international flight.\"\"\"\n",
        "\n",
        "    def __init__(self, flight_number, departure_airport, arrival_airport, departure_time, arrival_time, total_seats, passport_required):\n",
        "        \"\"\"Initializes a new InternationalFlight object.\n",
        "\n",
        "        Args:\n",
        "            flight_number: The unique flight number.\n",
        "            departure_airport: The departure airport.\n",
        "            arrival_airport: The arrival airport.\n",
        "            departure_time: The departure time.\n",
        "            arrival_time: The arrival time.\n",
        "            total_seats: The total number of seats available on the flight.\n",
        "            passport_required: Whether a passport is required for the flight.\n",
        "        \"\"\"\n",
        "\n",
        "        super().__init__(flight_number, departure_airport, arrival_airport, departure_time, arrival_time, total_seats)\n",
        "self.passport_required =is_passport_required\n",
        "\n",
        "def is_passport_required(self):\n",
        "    return self.is_passport_required"
      ],
      "metadata": {
        "id": "shLOTZFYH10Z"
      },
      "execution_count": null,
      "outputs": []
    },
    {
      "cell_type": "markdown",
      "source": [],
      "metadata": {
        "id": "KGzxVXSHIhTY"
      }
    }
  ]
}